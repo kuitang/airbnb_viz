{
 "cells": [
  {
   "cell_type": "markdown",
   "metadata": {},
   "source": [
    "# Fit a Gaussian Process to AirBnB data, and plot it.\n",
    "\n",
    "Author: Kui Tang\n",
    "\n",
    "Final project for Statistical Graphics and Communication"
   ]
  },
  {
   "cell_type": "markdown",
   "metadata": {},
   "source": [
    "## 0. 90% of Data Science is Getting and Cleaning the Data...\n",
    "\n",
    "The files in http://insideairbnb.com/get-the-data.html under 'New York City' are saved under `data/`.\n",
    "\n",
    "The `data/nybb_14aav.zip` file is downloaded from http://www.nyc.gov/html/dcp/download/bytes/nybb_14aav.zip."
   ]
  },
  {
   "cell_type": "code",
   "execution_count": null,
   "metadata": {
    "collapsed": false
   },
   "outputs": [],
   "source": [
    "import numpy as np\n",
    "import pandas as pd\n",
    "import geopandas as gpd\n",
    "import statsmodels.api as sm\n",
    "import seaborn as sns\n",
    "import GPy\n",
    "\n",
    "sns.set_style('white')\n",
    "\n",
    "\n",
    "from IPython.core.display import HTML\n",
    "\n",
    "import matplotlib.pyplot as plt\n",
    "%matplotlib inline\n",
    "\n",
    "RUN_DEAD_CODE = False\n",
    "\n",
    "listings_df = pd.read_csv('data/listings.csv.gz')\n",
    "calendar_df = pd.read_csv('data/calendar.csv.gz')\n",
    "neighbourhoods_df = pd.read_csv('data/neighbourhoods.csv')\n",
    "\n",
    "boros_gdf = gpd.GeoDataFrame.from_file('data/nybb_14a_av/nybb.shp')\n",
    "neighbourhoods_gdf = gpd.GeoDataFrame.from_file('data/neighbourhoods.geojson')"
   ]
  },
  {
   "cell_type": "code",
   "execution_count": null,
   "metadata": {
    "collapsed": false
   },
   "outputs": [],
   "source": [
    "def clean_currency(x):\n",
    "    x = str(x)\n",
    "    if x[0] == '$':\n",
    "        x = x[1:]\n",
    "    x = x.replace(',', '')\n",
    "    \n",
    "    return float(x)\n",
    "\n",
    "def clean_bool(x):\n",
    "    return 1.0 if x == 't' else 0.0\n",
    "\n",
    "def clean_percent(x):\n",
    "    if np.isnan(x):\n",
    "        return x\n",
    "        \n",
    "    x = str(x)\n",
    "    if x[-1] == '%':\n",
    "        x[-1] = ''\n",
    "    \n",
    "    return float(x) / 100.0\n",
    "    \n",
    "calendar_df['price'] = calendar_df['price'].apply(clean_currency)    \n",
    "calendar_df['available'] = calendar_df['available'].apply(clean_bool)\n",
    "calendar_df['date'] = pd.to_datetime(calendar_df.date)\n",
    "\n",
    "cols_listings_currency = [u'price', u'weekly_price', u'monthly_price', u'security_deposit', u'cleaning_fee', u'extra_people']\n",
    "for c in cols_listings_currency:\n",
    "    listings_df[c] = listings_df[c].apply(clean_currency)\n",
    "    \n",
    "cols_listings_bool = ['is_location_exact', 'instant_bookable', 'host_identity_verified', 'host_is_superhost', 'host_has_profile_pic']\n",
    "for c in cols_listings_bool:\n",
    "    listings_df[c] = listings_df[c].apply(clean_bool)\n",
    "    \n",
    "cols_listings_cat = ['property_type', 'room_type', 'bed_type', 'cancellation_policy']\n",
    "for c in cols_listings_cat:\n",
    "    listings_df[c] = listings_df[c].astype('category')\n",
    "    "
   ]
  },
  {
   "cell_type": "code",
   "execution_count": null,
   "metadata": {
    "collapsed": false,
    "scrolled": true
   },
   "outputs": [],
   "source": [
    "def clean_percent(x):\n",
    "    x = str(x)\n",
    "    if x == 'nan':\n",
    "        return x\n",
    "    \n",
    "    if x[-1] == '%':\n",
    "        x = x[:-1]\n",
    "    \n",
    "    return float(x) / 100.0\n",
    "\n",
    "listings_df['host_response_rate'].apply(clean_percent)"
   ]
  },
  {
   "cell_type": "markdown",
   "metadata": {},
   "source": [
    "Eighty-eight percent of the lat-long locations are exact, so we can reasonably plot them."
   ]
  },
  {
   "cell_type": "code",
   "execution_count": null,
   "metadata": {
    "collapsed": false,
    "scrolled": true
   },
   "outputs": [],
   "source": [
    "listings_df['extra_people']"
   ]
  },
  {
   "cell_type": "code",
   "execution_count": null,
   "metadata": {
    "collapsed": false
   },
   "outputs": [],
   "source": [
    "listings_df['is_location_exact'].mean()"
   ]
  },
  {
   "cell_type": "code",
   "execution_count": null,
   "metadata": {
    "collapsed": false,
    "scrolled": true
   },
   "outputs": [],
   "source": [
    "with pd.option_context('display.max_rows', 10000):\n",
    "    print listings_df.dtypes"
   ]
  },
  {
   "cell_type": "code",
   "execution_count": null,
   "metadata": {
    "collapsed": false,
    "scrolled": true
   },
   "outputs": [],
   "source": [
    "listings_df['availability_30']"
   ]
  },
  {
   "cell_type": "code",
   "execution_count": null,
   "metadata": {
    "collapsed": false,
    "scrolled": true
   },
   "outputs": [],
   "source": [
    "calendar_df"
   ]
  },
  {
   "cell_type": "markdown",
   "metadata": {},
   "source": [
    "I'm not sure what this means. The spaces are never available to book? Everything's been booked up? At any rate, it should never be just one value. This must be a data error."
   ]
  },
  {
   "cell_type": "code",
   "execution_count": null,
   "metadata": {
    "collapsed": false
   },
   "outputs": [],
   "source": [
    "calendar_df['available'].mean()"
   ]
  },
  {
   "cell_type": "markdown",
   "metadata": {},
   "source": [
    "## 1. First Plot: Prices vs Location and Time\n",
    "\n",
    "After viewing the results here, think of some covariates you could add to the Gaussian process."
   ]
  },
  {
   "cell_type": "markdown",
   "metadata": {},
   "source": [
    "### 1.1 Join calender and listing tables to obtain daily prices.\n",
    "\n",
    "Some listings (a bit over 1%) show a zero for guests included! I really don't know how to deal with this other than to throw it out."
   ]
  },
  {
   "cell_type": "code",
   "execution_count": null,
   "metadata": {
    "collapsed": false
   },
   "outputs": [],
   "source": [
    "cols_listings_geo = ['latitude', 'longitude']\n",
    "cols_listings_cont = ['host_listings_count', 'accommodates']\n",
    "\n",
    "calendar_money_df = calendar_df[['listing_id', 'date', 'price']]\n",
    "calendar_money_df = calendar_money_df[-calendar_money_df['price'].isnull()]\n",
    "\n",
    "listings_money_cols = ['id'] + cols_listings_geo + cols_listings_cont + cols_listings_bool + cols_listings_cat + ['weekly_price', 'monthly_price', 'security_deposit', 'cleaning_fee', 'guests_included']\n",
    "\n",
    "listings_money_df = listings_df[listings_money_cols]\n",
    "listings_money_df = listings_money_df[listings_money_df['guests_included'] > 0]\n",
    "\n",
    "moneyloc_df = pd.merge(calendar_money_df, listings_money_df, how='inner', left_on=['listing_id'], right_on=['id'])\n",
    "moneyloc_df['per_person_price'] = moneyloc_df['price'] / moneyloc_df['guests_included']\n",
    "moneyloc_df['log_per_person_price'] = np.log(moneyloc_df['per_person_price'])"
   ]
  },
  {
   "cell_type": "markdown",
   "metadata": {},
   "source": [
    "We indeed have location data for every listing, though recall it is not accurate for about 12%."
   ]
  },
  {
   "cell_type": "markdown",
   "metadata": {},
   "source": [
    "### 1.3 Plot the NYC Data"
   ]
  },
  {
   "cell_type": "markdown",
   "metadata": {},
   "source": [
    "GeoPandas is **AMAZING**! It automatically displays even the polygon! I **love** technology! And in fact, according to the documnetation, it can even compute intersection and difference between two polygons. And it has area methods... whoa..."
   ]
  },
  {
   "cell_type": "code",
   "execution_count": null,
   "metadata": {
    "collapsed": false
   },
   "outputs": [],
   "source": [
    "boros_gdf['geometry'][0]"
   ]
  },
  {
   "cell_type": "markdown",
   "metadata": {},
   "source": [
    "Plotting the whole GeoDataFrame is not hard."
   ]
  },
  {
   "cell_type": "code",
   "execution_count": null,
   "metadata": {
    "collapsed": false
   },
   "outputs": [],
   "source": [
    "boros_gdf.plot()"
   ]
  },
  {
   "cell_type": "code",
   "execution_count": null,
   "metadata": {
    "collapsed": false
   },
   "outputs": [],
   "source": [
    "boros_gdf.crs"
   ]
  },
  {
   "cell_type": "markdown",
   "metadata": {},
   "source": [
    "I need to read about coordinate systems. What controls the x and y axes?\n",
    "\n",
    "For some reason, I know that converting to espg:4326 (what we read with the neighborhoods geojson file), the x and y axes are exactly lat and long, which means I can place points (as polygons) on the map.\n",
    "\n",
    "Later, with the Gaussian processes, I will need to clip the predictions to land."
   ]
  },
  {
   "cell_type": "code",
   "execution_count": null,
   "metadata": {
    "collapsed": false
   },
   "outputs": [],
   "source": [
    "listings_df.ix[:100, 'latitude'].max()"
   ]
  },
  {
   "cell_type": "code",
   "execution_count": null,
   "metadata": {
    "collapsed": false
   },
   "outputs": [],
   "source": [
    "plt.scatter(\n",
    "    listings_df.ix[:100, 'longitude'],\n",
    "    listings_df.ix[:100, 'latitude'],\n",
    "    s=2,\n",
    "    marker='.')"
   ]
  },
  {
   "cell_type": "code",
   "execution_count": null,
   "metadata": {
    "collapsed": false
   },
   "outputs": [],
   "source": [
    "boros_epsg_gdf = boros_gdf.to_crs(epsg=4326)\n",
    "boros_ax = boros_epsg_gdf.plot(alpha=0)\n",
    "boros_ax.hold('on')\n",
    "boros_ax.scatter(\n",
    "    listings_df.ix[:, 'longitude'],\n",
    "    listings_df.ix[:, 'latitude'],\n",
    "    s=2,\n",
    "    marker='.'\n",
    ")\n",
    "\n",
    "# It is always possible to resize the figure after the fact.\n",
    "\n",
    "plt.gcf().set_size_inches(15, 15)\n",
    "plt.title('Scatterplot of AirBnb listing across Boros')"
   ]
  },
  {
   "cell_type": "code",
   "execution_count": null,
   "metadata": {
    "collapsed": false
   },
   "outputs": [],
   "source": [
    "neighborhoods_ax = neighbourhoods_gdf.plot(alpha=0)\n",
    "neighborhoods_ax.hold('on')\n",
    "neighborhoods_ax.scatter(\n",
    "    listings_df.ix[:, 'longitude'],\n",
    "    listings_df.ix[:, 'latitude'],\n",
    "    s=2,\n",
    "    marker='.'\n",
    ")\n",
    "\n",
    "plt.gcf().set_size_inches(15, 15)\n",
    "plt.title('Scatterplot of AirBnb listing across neighborhoods')"
   ]
  },
  {
   "cell_type": "code",
   "execution_count": null,
   "metadata": {
    "collapsed": false
   },
   "outputs": [],
   "source": [
    "moneyloc_df"
   ]
  },
  {
   "cell_type": "markdown",
   "metadata": {},
   "source": [
    "## 2. Figure out how to use GPy\n",
    "\n",
    "Only plot the data for one day right now.\n",
    "\n",
    "We fit two models: one to all of the variables we think could be predictive (which we have listed above), and another to just lat and long. The lat-long model is then suitable to plotting, while the full model can be used for prediction."
   ]
  },
  {
   "cell_type": "code",
   "execution_count": null,
   "metadata": {
    "collapsed": false
   },
   "outputs": [],
   "source": [
    "import patsy\n",
    "\n",
    "moneyloc_oneday_df = moneyloc_df[moneyloc_df['date'] == moneyloc_df['date'].min()]\n",
    "\n",
    "\n",
    "loc_formula  = 'log_per_person_price ~ 1 + longitude + latitude'\n",
    "full_formula = 'log_per_person_price ~ 1 + longitude + latitude + host_listings_count + instant_bookable + host_identity_verified + host_is_superhost + host_has_profile_pic + C(property_type) + C(room_type) + C(bed_type) + C(cancellation_policy)'\n",
    "\n",
    "#moneyloc_oneday_scaled_df = moneyloc_oneday_df.copy()\n",
    "\n",
    "#min_long = moneyloc_oneday_scaled_df['longitude'].min()\n",
    "#min_lat = moneyloc_oneday_scaled_df['latitude'].min()\n",
    "#range_long = moneyloc_oneday_scaled_df['longitude'].max() - min_long\n",
    "#range_lat  = moneyloc_oneday_scaled_df['latitude'].max() - min_lat\n",
    "\n",
    "# \n",
    "#moneyloc_oneday_scaled_df['longitude'] = (moneyloc_oneday_scaled_df['longitude'] - min_long) / range_long\n",
    "#moneyloc_oneday_scaled_df['latitude'] = (moneyloc_oneday_scaled_df['latitude'] - min_lat) / range_lat\n",
    "\n",
    "loc_dmat_logY, loc_dmat_X   = patsy.dmatrices(loc_formula, moneyloc_oneday_df)\n",
    "full_dmat_logY, full_dmat_X = patsy.dmatrices(full_formula, moneyloc_oneday_df)"
   ]
  },
  {
   "cell_type": "markdown",
   "metadata": {},
   "source": [
    "Log-transforming the Y variable is necessary due to its heavy tail."
   ]
  },
  {
   "cell_type": "code",
   "execution_count": null,
   "metadata": {
    "collapsed": false,
    "scrolled": true
   },
   "outputs": [],
   "source": [
    "plt.hist(np.ravel(loc_dmat_logY), bins=100)\n",
    "None"
   ]
  },
  {
   "cell_type": "markdown",
   "metadata": {},
   "source": [
    "Even a simple linear model will capture much of the variation. Thus, we should include a linear kernel in our GP model."
   ]
  },
  {
   "cell_type": "code",
   "execution_count": null,
   "metadata": {
    "collapsed": false,
    "scrolled": true
   },
   "outputs": [],
   "source": [
    "loc_lm = sm.OLS(loc_dmat_logY, loc_dmat_X)\n",
    "loc_lm_results = loc_lm.fit()\n",
    "loc_lm_results.summary()"
   ]
  },
  {
   "cell_type": "code",
   "execution_count": null,
   "metadata": {
    "collapsed": false
   },
   "outputs": [],
   "source": [
    "sns.coefplot(loc_formula, moneyloc_oneday_df)\n",
    "ax = plt.gca()\n",
    "plt.setp(ax.get_xticklabels(), rotation=90)"
   ]
  },
  {
   "cell_type": "code",
   "execution_count": null,
   "metadata": {
    "collapsed": false,
    "scrolled": true
   },
   "outputs": [],
   "source": [
    "full_lm = sm.OLS(full_dmat_logY, full_dmat_X)\n",
    "full_lm_results = full_lm.fit()\n",
    "full_lm_results.summary()"
   ]
  },
  {
   "cell_type": "code",
   "execution_count": null,
   "metadata": {
    "collapsed": false
   },
   "outputs": [],
   "source": [
    "sns.coefplot(full_formula, moneyloc_oneday_df)\n",
    "ax = plt.gca()\n",
    "plt.setp(ax.get_xticklabels(), rotation=90)"
   ]
  },
  {
   "cell_type": "markdown",
   "metadata": {},
   "source": [
    "The fit is statistically significant, but has low $R^2$."
   ]
  },
  {
   "cell_type": "code",
   "execution_count": null,
   "metadata": {
    "collapsed": false
   },
   "outputs": [],
   "source": [
    "plt.hist(np.ravel(loc_dmat_logY))"
   ]
  },
  {
   "cell_type": "code",
   "execution_count": null,
   "metadata": {
    "collapsed": false
   },
   "outputs": [],
   "source": [
    "boros_oneday_ax = boros_epsg_gdf.plot(alpha=0)\n",
    "boros_oneday_ax.hold('on')\n",
    "boros_oneday_ax.scatter(\n",
    "    moneyloc_oneday_df.ix[:, 'longitude'],\n",
    "    moneyloc_oneday_df.ix[:, 'latitude'],\n",
    "    s=2,\n",
    "    marker='.'\n",
    ")\n",
    "\n",
    "# It is always possible to resize the figure after the fact.\n",
    "\n",
    "plt.gcf().set_size_inches(15, 15)\n",
    "plt.title('Scatterplot of AirBnb listing across Boros, on first day')"
   ]
  },
  {
   "cell_type": "markdown",
   "metadata": {},
   "source": [
    "To get a crude estimate of the noise variance, we fit a linear regression on latitude and longitude."
   ]
  },
  {
   "cell_type": "code",
   "execution_count": null,
   "metadata": {
    "collapsed": false
   },
   "outputs": [],
   "source": [
    "# Copied from the example\n",
    "\n",
    "# CONCLUSION: Choose linear + Matern.\n",
    "\n",
    "def sparse_GP_regression_2D(X, Y, num_inducing=50, max_iters=100, optimize=True, plot=True):\n",
    "    \"\"\"Run a 2D example of a sparse GP regression.\"\"\"\n",
    "#    np.random.seed(1234)\n",
    "\n",
    "    # construct kernel\n",
    "    n_cols = X.shape[1]\n",
    "    kern = GPy.kern.Linear(n_cols).add(GPy.kern.Matern32(n_cols))\n",
    "#    rbf = GPy.kern.Linear(2).add(GPy.kern.RatQuad(2))\n",
    "\n",
    "\n",
    "    # create simple GP Model\n",
    "    \n",
    "    # DEBUG: Make fake data\n",
    "#    Y = np.sin(X[:, 0:1]) * np.sin(X[:, 1:2]) + np.random.randn(len(Y), 1) * 0.05\n",
    "    \n",
    "#    m = GPy.models.SparseGPRegression(X, Y, kernel=rbf, num_inducing=num_inducing)\n",
    "#    m = GPy.models.GPRegression(X, Y, kernel=rbf, noise_var=10)\n",
    "#    m = GPy.models.GPRegression(X, np.log(Y), kernel=rbf, noise_var=1)\n",
    "    m = GPy.models.GPRegression(X, Y, kernel=kern, noise_var=1)\n",
    "\n",
    "    # contrain all parameters to be positive (but not inducing inputs)\n",
    "#    m['.*len'] = 2.\n",
    "\n",
    "    m.checkgrad()\n",
    "\n",
    "    # optimize\n",
    "    if optimize:\n",
    "        m.optimize('tnc', messages=1, max_iters=max_iters)\n",
    "#        m.optimize(messages=1, max_iters=max_iters)\n",
    "        \n",
    "\n",
    "    # plot\n",
    "    if plot:\n",
    "        try:\n",
    "            m.plot()\n",
    "        except Exception as e:\n",
    "            print \"Unable to plot because \", e\n",
    "\n",
    "    print(m)\n",
    "    return m\n",
    "\n",
    "\n",
    "loc_model_oneday  = sparse_GP_regression_2D(loc_dmat_X, loc_dmat_logY, plot=True)\n",
    "full_model_oneday = sparse_GP_regression_2D(full_dmat_X, full_dmat_logY, plot=True)"
   ]
  },
  {
   "cell_type": "code",
   "execution_count": null,
   "metadata": {
    "collapsed": false
   },
   "outputs": [],
   "source": [
    "boros_oneday_ax = boros_epsg_gdf.plot(colormap='binary', alpha=0)\n",
    "boros_oneday_ax.hold('on')\n",
    "model_oneday.plot(ax=boros_oneday_ax)\n",
    "plt.gcf().set_size_inches(15, 15)\n",
    "plt.title('Model + Data plot AirBnb listing across Boros, on first day')"
   ]
  },
  {
   "cell_type": "markdown",
   "metadata": {},
   "source": [
    "### 2.2 Quantitatively evaluate predictions"
   ]
  },
  {
   "cell_type": "code",
   "execution_count": null,
   "metadata": {
    "collapsed": true
   },
   "outputs": [],
   "source": [
    "def eval_model_fit(model, X, Y):\n",
    "    Yhat, Yhatvar = model.predict(X)\n",
    "    resids = Yhat - Y\n",
    "    mse_resids = np.mean(np.square(resids))\n",
    "    mse_total = np.mean(np.square(Y - np.mean(Y)))\n",
    "\n",
    "    return {\n",
    "        'rmse': np.sqrt(mse_resids),\n",
    "        'Rsq': 1 - mse_resids / mse_total        \n",
    "    }"
   ]
  },
  {
   "cell_type": "code",
   "execution_count": null,
   "metadata": {
    "collapsed": false
   },
   "outputs": [],
   "source": [
    "import pprint\n",
    "pprint.pprint(eval_model_fit(loc_model_oneday, loc_dmat_X, loc_dmat_logY))\n",
    "pprint.pprint(eval_model_fit(full_model_oneday, full_dmat_X, full_dmat_logY))\n"
   ]
  },
  {
   "cell_type": "code",
   "execution_count": null,
   "metadata": {
    "collapsed": true
   },
   "outputs": [],
   "source": []
  },
  {
   "cell_type": "code",
   "execution_count": null,
   "metadata": {
    "collapsed": false
   },
   "outputs": [],
   "source": [
    "Y.min()"
   ]
  },
  {
   "cell_type": "code",
   "execution_count": null,
   "metadata": {
    "collapsed": true
   },
   "outputs": [],
   "source": []
  }
 ],
 "metadata": {
  "kernelspec": {
   "display_name": "Python 2",
   "language": "python",
   "name": "python2"
  },
  "language_info": {
   "codemirror_mode": {
    "name": "ipython",
    "version": 2
   },
   "file_extension": ".py",
   "mimetype": "text/x-python",
   "name": "python",
   "nbconvert_exporter": "python",
   "pygments_lexer": "ipython2",
   "version": "2.7.10"
  }
 },
 "nbformat": 4,
 "nbformat_minor": 0
}
